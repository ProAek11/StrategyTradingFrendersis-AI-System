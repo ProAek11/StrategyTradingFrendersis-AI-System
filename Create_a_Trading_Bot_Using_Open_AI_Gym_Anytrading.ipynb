{
  "nbformat": 4,
  "nbformat_minor": 0,
  "metadata": {
    "colab": {
      "provenance": [],
      "include_colab_link": true
    },
    "kernelspec": {
      "name": "python3",
      "display_name": "Python 3"
    },
    "language_info": {
      "name": "python"
    },
    "accelerator": "GPU"
  },
  "cells": [
    {
      "cell_type": "markdown",
      "metadata": {
        "id": "view-in-github",
        "colab_type": "text"
      },
      "source": [
        "<a href=\"https://colab.research.google.com/github/ProAek11/StrategyTradingFrendersis-AI-System/blob/main/Create_a_Trading_Bot_Using_Open_AI_Gym_Anytrading.ipynb\" target=\"_parent\"><img src=\"https://colab.research.google.com/assets/colab-badge.svg\" alt=\"Open In Colab\"/></a>"
      ]
    },
    {
      "cell_type": "code",
      "metadata": {
        "colab": {
          "base_uri": "https://localhost:8080/"
        },
        "id": "B0ZY4hbi4h2s",
        "outputId": "1d4c0760-4efe-4ffe-d578-6c3f217bb677"
      },
      "source": [
        "!pip install tensorflow-gpu==1.15.0 tensorflow==1.15.0 stable-baselines gym-anytrading gym"
      ],
      "execution_count": 1,
      "outputs": [
        {
          "output_type": "stream",
          "name": "stdout",
          "text": [
            "\u001b[31mERROR: Could not find a version that satisfies the requirement tensorflow-gpu==1.15.0 (from versions: 2.8.0rc0, 2.8.0rc1, 2.8.0, 2.8.1, 2.8.2, 2.8.3, 2.8.4, 2.9.0rc0, 2.9.0rc1, 2.9.0rc2, 2.9.0, 2.9.1, 2.9.2, 2.9.3, 2.10.0rc0, 2.10.0rc1, 2.10.0rc2, 2.10.0rc3, 2.10.0, 2.10.1, 2.11.0rc0, 2.11.0rc1, 2.11.0rc2, 2.11.0, 2.12.0)\u001b[0m\u001b[31m\n",
            "\u001b[0m\u001b[31mERROR: No matching distribution found for tensorflow-gpu==1.15.0\u001b[0m\u001b[31m\n",
            "\u001b[0m"
          ]
        }
      ]
    },
    {
      "cell_type": "code",
      "metadata": {
        "colab": {
          "base_uri": "https://localhost:8080/"
        },
        "id": "StVEQ3E_4khQ",
        "outputId": "c85214a8-6015-4bbf-b263-f9d850110464"
      },
      "source": [
        "# Importing Dependencies\n",
        "import gym\n",
        "import gym_anytrading\n",
        "\n",
        "# Stable baselines - rl stuff\n",
        "from stable_baselines.common.vec_env import DummyVecEnv\n",
        "from stable_baselines import A2C\n",
        "\n",
        "# Processing libraries\n",
        "import numpy as np\n",
        "import pandas as pd\n",
        "from matplotlib import pyplot as plt"
      ],
      "execution_count": null,
      "outputs": [
        {
          "output_type": "stream",
          "text": [
            "WARNING:tensorflow:\n",
            "The TensorFlow contrib module will not be included in TensorFlow 2.0.\n",
            "For more information, please see:\n",
            "  * https://github.com/tensorflow/community/blob/master/rfcs/20180907-contrib-sunset.md\n",
            "  * https://github.com/tensorflow/addons\n",
            "  * https://github.com/tensorflow/io (for I/O related ops)\n",
            "If you depend on functionality not listed there, please file an issue.\n",
            "\n"
          ],
          "name": "stdout"
        },
        {
          "output_type": "stream",
          "text": [
            "/usr/local/lib/python3.7/dist-packages/stable_baselines/__init__.py:33: UserWarning: stable-baselines is in maintenance mode, please use [Stable-Baselines3 (SB3)](https://github.com/DLR-RM/stable-baselines3) for an up-to-date version. You can find a [migration guide](https://stable-baselines3.readthedocs.io/en/master/guide/migration.html) in SB3 documentation.\n",
            "  \"stable-baselines is in maintenance mode, please use [Stable-Baselines3 (SB3)](https://github.com/DLR-RM/stable-baselines3) for an up-to-date version. You can find a [migration guide](https://stable-baselines3.readthedocs.io/en/master/guide/migration.html) in SB3 documentation.\"\n"
          ],
          "name": "stderr"
        }
      ]
    },
    {
      "cell_type": "code",
      "metadata": {
        "id": "0IFOMOCf4kYS"
      },
      "source": [
        "#loading our dataset\n",
        "df = pd.read_csv('/content/gmedata.csv')"
      ],
      "execution_count": null,
      "outputs": []
    },
    {
      "cell_type": "code",
      "metadata": {
        "colab": {
          "base_uri": "https://localhost:8080/",
          "height": 204
        },
        "id": "PgzDlso24kV5",
        "outputId": "a394ba6d-abb6-4b92-9b67-183d300404c4"
      },
      "source": [
        "#viewing first 5 columns\n",
        "df.head()"
      ],
      "execution_count": null,
      "outputs": [
        {
          "output_type": "execute_result",
          "data": {
            "text/html": [
              "<div>\n",
              "<style scoped>\n",
              "    .dataframe tbody tr th:only-of-type {\n",
              "        vertical-align: middle;\n",
              "    }\n",
              "\n",
              "    .dataframe tbody tr th {\n",
              "        vertical-align: top;\n",
              "    }\n",
              "\n",
              "    .dataframe thead th {\n",
              "        text-align: right;\n",
              "    }\n",
              "</style>\n",
              "<table border=\"1\" class=\"dataframe\">\n",
              "  <thead>\n",
              "    <tr style=\"text-align: right;\">\n",
              "      <th></th>\n",
              "      <th>Date</th>\n",
              "      <th>Open</th>\n",
              "      <th>High</th>\n",
              "      <th>Low</th>\n",
              "      <th>Close</th>\n",
              "      <th>Volume</th>\n",
              "    </tr>\n",
              "  </thead>\n",
              "  <tbody>\n",
              "    <tr>\n",
              "      <th>0</th>\n",
              "      <td>03/12/2021</td>\n",
              "      <td>275.00</td>\n",
              "      <td>295.50</td>\n",
              "      <td>262.27</td>\n",
              "      <td>264.5</td>\n",
              "      <td>25,845,900</td>\n",
              "    </tr>\n",
              "    <tr>\n",
              "      <th>1</th>\n",
              "      <td>03/11/2021</td>\n",
              "      <td>241.64</td>\n",
              "      <td>281.50</td>\n",
              "      <td>232.60</td>\n",
              "      <td>260.0</td>\n",
              "      <td>28,312,490</td>\n",
              "    </tr>\n",
              "    <tr>\n",
              "      <th>2</th>\n",
              "      <td>03/10/2021</td>\n",
              "      <td>269.43</td>\n",
              "      <td>348.50</td>\n",
              "      <td>172.00</td>\n",
              "      <td>265.0</td>\n",
              "      <td>71,570,570</td>\n",
              "    </tr>\n",
              "    <tr>\n",
              "      <th>3</th>\n",
              "      <td>03/09/2021</td>\n",
              "      <td>217.71</td>\n",
              "      <td>249.85</td>\n",
              "      <td>208.51</td>\n",
              "      <td>246.9</td>\n",
              "      <td>39,099,328</td>\n",
              "    </tr>\n",
              "    <tr>\n",
              "      <th>4</th>\n",
              "      <td>03/08/2021</td>\n",
              "      <td>154.89</td>\n",
              "      <td>210.87</td>\n",
              "      <td>146.10</td>\n",
              "      <td>194.5</td>\n",
              "      <td>63,565,621</td>\n",
              "    </tr>\n",
              "  </tbody>\n",
              "</table>\n",
              "</div>"
            ],
            "text/plain": [
              "         Date    Open    High     Low  Close      Volume\n",
              "0  03/12/2021  275.00  295.50  262.27  264.5  25,845,900\n",
              "1  03/11/2021  241.64  281.50  232.60  260.0  28,312,490\n",
              "2  03/10/2021  269.43  348.50  172.00  265.0  71,570,570\n",
              "3  03/09/2021  217.71  249.85  208.51  246.9  39,099,328\n",
              "4  03/08/2021  154.89  210.87  146.10  194.5  63,565,621"
            ]
          },
          "metadata": {
            "tags": []
          },
          "execution_count": 4
        }
      ]
    },
    {
      "cell_type": "code",
      "metadata": {
        "colab": {
          "base_uri": "https://localhost:8080/"
        },
        "id": "qSJdICGt4kMF",
        "outputId": "1174e40a-af64-4c24-e3a7-81854908921e"
      },
      "source": [
        "#converting Date Column to DateTime Type\n",
        "df['Date'] = pd.to_datetime(df['Date'])\n",
        "df.dtypes"
      ],
      "execution_count": null,
      "outputs": [
        {
          "output_type": "execute_result",
          "data": {
            "text/plain": [
              "Date      datetime64[ns]\n",
              "Open             float64\n",
              "High             float64\n",
              "Low              float64\n",
              "Close            float64\n",
              "Volume            object\n",
              "dtype: object"
            ]
          },
          "metadata": {
            "tags": []
          },
          "execution_count": 5
        }
      ]
    },
    {
      "cell_type": "code",
      "metadata": {
        "colab": {
          "base_uri": "https://localhost:8080/",
          "height": 235
        },
        "id": "dxJ3b_oq4kJi",
        "outputId": "ccbca2ca-34e1-48ce-fd61-7c0e5494457b"
      },
      "source": [
        "#setting the column as index\n",
        "df.set_index('Date', inplace=True)\n",
        "df.head()"
      ],
      "execution_count": null,
      "outputs": [
        {
          "output_type": "execute_result",
          "data": {
            "text/html": [
              "<div>\n",
              "<style scoped>\n",
              "    .dataframe tbody tr th:only-of-type {\n",
              "        vertical-align: middle;\n",
              "    }\n",
              "\n",
              "    .dataframe tbody tr th {\n",
              "        vertical-align: top;\n",
              "    }\n",
              "\n",
              "    .dataframe thead th {\n",
              "        text-align: right;\n",
              "    }\n",
              "</style>\n",
              "<table border=\"1\" class=\"dataframe\">\n",
              "  <thead>\n",
              "    <tr style=\"text-align: right;\">\n",
              "      <th></th>\n",
              "      <th>Open</th>\n",
              "      <th>High</th>\n",
              "      <th>Low</th>\n",
              "      <th>Close</th>\n",
              "      <th>Volume</th>\n",
              "    </tr>\n",
              "    <tr>\n",
              "      <th>Date</th>\n",
              "      <th></th>\n",
              "      <th></th>\n",
              "      <th></th>\n",
              "      <th></th>\n",
              "      <th></th>\n",
              "    </tr>\n",
              "  </thead>\n",
              "  <tbody>\n",
              "    <tr>\n",
              "      <th>2021-03-12</th>\n",
              "      <td>275.00</td>\n",
              "      <td>295.50</td>\n",
              "      <td>262.27</td>\n",
              "      <td>264.5</td>\n",
              "      <td>25,845,900</td>\n",
              "    </tr>\n",
              "    <tr>\n",
              "      <th>2021-03-11</th>\n",
              "      <td>241.64</td>\n",
              "      <td>281.50</td>\n",
              "      <td>232.60</td>\n",
              "      <td>260.0</td>\n",
              "      <td>28,312,490</td>\n",
              "    </tr>\n",
              "    <tr>\n",
              "      <th>2021-03-10</th>\n",
              "      <td>269.43</td>\n",
              "      <td>348.50</td>\n",
              "      <td>172.00</td>\n",
              "      <td>265.0</td>\n",
              "      <td>71,570,570</td>\n",
              "    </tr>\n",
              "    <tr>\n",
              "      <th>2021-03-09</th>\n",
              "      <td>217.71</td>\n",
              "      <td>249.85</td>\n",
              "      <td>208.51</td>\n",
              "      <td>246.9</td>\n",
              "      <td>39,099,328</td>\n",
              "    </tr>\n",
              "    <tr>\n",
              "      <th>2021-03-08</th>\n",
              "      <td>154.89</td>\n",
              "      <td>210.87</td>\n",
              "      <td>146.10</td>\n",
              "      <td>194.5</td>\n",
              "      <td>63,565,621</td>\n",
              "    </tr>\n",
              "  </tbody>\n",
              "</table>\n",
              "</div>"
            ],
            "text/plain": [
              "              Open    High     Low  Close      Volume\n",
              "Date                                                 \n",
              "2021-03-12  275.00  295.50  262.27  264.5  25,845,900\n",
              "2021-03-11  241.64  281.50  232.60  260.0  28,312,490\n",
              "2021-03-10  269.43  348.50  172.00  265.0  71,570,570\n",
              "2021-03-09  217.71  249.85  208.51  246.9  39,099,328\n",
              "2021-03-08  154.89  210.87  146.10  194.5  63,565,621"
            ]
          },
          "metadata": {
            "tags": []
          },
          "execution_count": 6
        }
      ]
    },
    {
      "cell_type": "code",
      "metadata": {
        "id": "IF939faq4kGY"
      },
      "source": [
        "#passing the data and creating our environment\n",
        "env = gym.make('stocks-v0', df=df, frame_bound=(5,100), window_size=5)"
      ],
      "execution_count": null,
      "outputs": []
    },
    {
      "cell_type": "code",
      "metadata": {
        "colab": {
          "base_uri": "https://localhost:8080/"
        },
        "id": "H0Jn4ix14kDx",
        "outputId": "0f54adca-df34-4b71-a30b-d522ce185d3f"
      },
      "source": [
        "env.signal_features"
      ],
      "execution_count": null,
      "outputs": [
        {
          "output_type": "execute_result",
          "data": {
            "text/plain": [
              "array([[ 2.6450e+02,  0.0000e+00],\n",
              "       [ 2.6000e+02, -4.5000e+00],\n",
              "       [ 2.6500e+02,  5.0000e+00],\n",
              "       [ 2.4690e+02, -1.8100e+01],\n",
              "       [ 1.9450e+02, -5.2400e+01],\n",
              "       [ 1.3774e+02, -5.6760e+01],\n",
              "       [ 1.3235e+02, -5.3900e+00],\n",
              "       [ 1.2418e+02, -8.1700e+00],\n",
              "       [ 1.1818e+02, -6.0000e+00],\n",
              "       [ 1.2040e+02,  2.2200e+00],\n",
              "       [ 1.0174e+02, -1.8660e+01],\n",
              "       [ 1.0873e+02,  6.9900e+00],\n",
              "       [ 9.1710e+01, -1.7020e+01],\n",
              "       [ 4.4970e+01, -4.6740e+01],\n",
              "       [ 4.6000e+01,  1.0300e+00],\n",
              "       [ 4.0590e+01, -5.4100e+00],\n",
              "       [ 4.0690e+01,  1.0000e-01],\n",
              "       [ 4.5940e+01,  5.2500e+00],\n",
              "       [ 4.9510e+01,  3.5700e+00],\n",
              "       [ 5.2400e+01,  2.8900e+00],\n",
              "       [ 5.1100e+01, -1.3000e+00],\n",
              "       [ 5.1200e+01,  1.0000e-01],\n",
              "       [ 5.0310e+01, -8.9000e-01],\n",
              "       [ 6.0000e+01,  9.6900e+00],\n",
              "       [ 6.3770e+01,  3.7700e+00],\n",
              "       [ 5.3500e+01, -1.0270e+01],\n",
              "       [ 9.2410e+01,  3.8910e+01],\n",
              "       [ 9.0000e+01, -2.4100e+00],\n",
              "       [ 2.2500e+02,  1.3500e+02],\n",
              "       [ 3.2500e+02,  1.0000e+02],\n",
              "       [ 1.9360e+02, -1.3140e+02],\n",
              "       [ 3.4751e+02,  1.5391e+02],\n",
              "       [ 1.4798e+02, -1.9953e+02],\n",
              "       [ 7.6790e+01, -7.1190e+01],\n",
              "       [ 6.5010e+01, -1.1780e+01],\n",
              "       [ 4.3030e+01, -2.1980e+01],\n",
              "       [ 3.9120e+01, -3.9100e+00],\n",
              "       [ 3.9360e+01,  2.4000e-01],\n",
              "       [ 3.5500e+01, -3.8600e+00],\n",
              "       [ 3.9910e+01,  4.4100e+00],\n",
              "       [ 3.1400e+01, -8.5100e+00],\n",
              "       [ 1.9950e+01, -1.1450e+01],\n",
              "       [ 1.9940e+01, -1.0000e-02],\n",
              "       [ 1.7690e+01, -2.2500e+00],\n",
              "       [ 1.8080e+01,  3.9000e-01],\n",
              "       [ 1.8360e+01,  2.8000e-01],\n",
              "       [ 1.7370e+01, -9.9000e-01],\n",
              "       [ 1.7250e+01, -1.2000e-01],\n",
              "       [ 1.8840e+01,  1.5900e+00],\n",
              "       [ 1.9260e+01,  4.2000e-01],\n",
              "       [ 1.9380e+01,  1.2000e-01],\n",
              "       [ 2.0990e+01,  1.6100e+00],\n",
              "       [ 2.0150e+01, -8.4000e-01],\n",
              "       [ 2.0570e+01,  4.2000e-01],\n",
              "       [ 1.9460e+01, -1.1100e+00],\n",
              "       [ 1.5530e+01, -3.9300e+00],\n",
              "       [ 1.5630e+01,  1.0000e-01],\n",
              "       [ 1.4830e+01, -8.0000e-01],\n",
              "       [ 1.3850e+01, -9.8000e-01],\n",
              "       [ 1.3850e+01,  0.0000e+00],\n",
              "       [ 1.2720e+01, -1.1300e+00],\n",
              "       [ 1.3310e+01,  5.9000e-01],\n",
              "       [ 1.4120e+01,  8.1000e-01],\n",
              "       [ 1.3660e+01, -4.6000e-01],\n",
              "       [ 1.6940e+01,  3.2800e+00],\n",
              "       [ 1.6350e+01, -5.9000e-01],\n",
              "       [ 1.6900e+01,  5.5000e-01],\n",
              "       [ 1.6120e+01, -7.8000e-01],\n",
              "       [ 1.6580e+01,  4.6000e-01],\n",
              "       [ 1.5800e+01, -7.8000e-01],\n",
              "       [ 1.6560e+01,  7.6000e-01],\n",
              "       [ 1.6080e+01, -4.8000e-01],\n",
              "       [ 1.4750e+01, -1.3300e+00],\n",
              "       [ 1.3670e+01, -1.0800e+00],\n",
              "       [ 1.3900e+01,  2.3000e-01],\n",
              "       [ 1.2710e+01, -1.1900e+00],\n",
              "       [ 1.2460e+01, -2.5000e-01],\n",
              "       [ 1.1570e+01, -8.9000e-01],\n",
              "       [ 1.1630e+01,  6.0000e-02],\n",
              "       [ 1.2060e+01,  4.3000e-01],\n",
              "       [ 1.1010e+01, -1.0500e+00],\n",
              "       [ 1.1130e+01,  1.2000e-01],\n",
              "       [ 1.1750e+01,  6.2000e-01],\n",
              "       [ 1.1100e+01, -6.5000e-01],\n",
              "       [ 1.1490e+01,  3.9000e-01],\n",
              "       [ 1.1860e+01,  3.7000e-01],\n",
              "       [ 1.1450e+01, -4.1000e-01],\n",
              "       [ 1.0910e+01, -5.4000e-01],\n",
              "       [ 1.1570e+01,  6.6000e-01],\n",
              "       [ 1.0750e+01, -8.2000e-01],\n",
              "       [ 1.0470e+01, -2.8000e-01],\n",
              "       [ 1.1730e+01,  1.2600e+00],\n",
              "       [ 1.1820e+01,  9.0000e-02],\n",
              "       [ 1.2690e+01,  8.7000e-01],\n",
              "       [ 1.3450e+01,  7.6000e-01],\n",
              "       [ 1.5000e+01,  1.5500e+00],\n",
              "       [ 1.4910e+01, -9.0000e-02],\n",
              "       [ 1.4100e+01, -8.1000e-01],\n",
              "       [ 1.3860e+01, -2.4000e-01],\n",
              "       [ 1.3910e+01,  5.0000e-02]])"
            ]
          },
          "metadata": {
            "tags": []
          },
          "execution_count": 8
        }
      ]
    },
    {
      "cell_type": "code",
      "metadata": {
        "colab": {
          "base_uri": "https://localhost:8080/"
        },
        "id": "UIyCHXEu4kBB",
        "outputId": "8a3374b3-ffdb-48ac-8aa3-bbca5f5677b8"
      },
      "source": [
        "env.action_space"
      ],
      "execution_count": null,
      "outputs": [
        {
          "output_type": "execute_result",
          "data": {
            "text/plain": [
              "Discrete(2)"
            ]
          },
          "metadata": {
            "tags": []
          },
          "execution_count": 9
        }
      ]
    },
    {
      "cell_type": "code",
      "metadata": {
        "colab": {
          "base_uri": "https://localhost:8080/",
          "height": 434
        },
        "id": "FPdnbjOF4j-R",
        "outputId": "96fc948f-9053-4b68-ee97-3ed951f68ca6"
      },
      "source": [
        "#running the test environment\n",
        "state = env.reset()\n",
        "while True:\n",
        "    action = env.action_space.sample()\n",
        "    n_state, reward, done, info = env.step(action)\n",
        "    if done:\n",
        "        print(\"info\", info)\n",
        "        break\n",
        "\n",
        "plt.figure(figsize=(15,6))\n",
        "plt.cla()\n",
        "env.render_all()\n",
        "plt.show()"
      ],
      "execution_count": null,
      "outputs": [
        {
          "output_type": "stream",
          "text": [
            "info {'total_reward': 249.03000000000003, 'total_profit': 1.2837759077324609, 'position': 0}\n"
          ],
          "name": "stdout"
        },
        {
          "output_type": "display_data",
          "data": {
            "image/png": "[encoded data removed]",
            "text/plain": [
              "<Figure size 1080x432 with 1 Axes>"
            ]
          },
          "metadata": {
            "tags": [],
            "needs_background": "light"
          }
        }
      ]
    },
    {
      "cell_type": "code",
      "metadata": {
        "id": "yrWm_d-x4j7a"
      },
      "source": [
        "#setting up our environment for training\n",
        "env_maker = lambda: gym.make('stocks-v0', df=df, frame_bound=(5,100), window_size=5)\n",
        "env = DummyVecEnv([env_maker])"
      ],
      "execution_count": null,
      "outputs": []
    },
    {
      "cell_type": "code",
      "metadata": {
        "colab": {
          "base_uri": "https://localhost:8080/"
        },
        "id": "t7QeiN024j4z",
        "outputId": "e0ae9388-b058-4f40-ee21-8241a4cd13f5"
      },
      "source": [
        "#Applying the Trading RL Algorithm\n",
        "model = A2C('MlpLstmPolicy', env, verbose=1)\n",
        "\n",
        "#setting the learning timesteps\n",
        "model.learn(total_timesteps=1000)"
      ],
      "execution_count": null,
      "outputs": [
        {
          "output_type": "stream",
          "text": [
            "WARNING:tensorflow:From /usr/local/lib/python3.7/dist-packages/stable_baselines/common/tf_util.py:191: The name tf.ConfigProto is deprecated. Please use tf.compat.v1.ConfigProto instead.\n",
            "\n",
            "WARNING:tensorflow:From /usr/local/lib/python3.7/dist-packages/stable_baselines/common/tf_util.py:200: The name tf.Session is deprecated. Please use tf.compat.v1.Session instead.\n",
            "\n",
            "WARNING:tensorflow:From /usr/local/lib/python3.7/dist-packages/stable_baselines/common/policies.py:116: The name tf.variable_scope is deprecated. Please use tf.compat.v1.variable_scope instead.\n",
            "\n",
            "WARNING:tensorflow:From /usr/local/lib/python3.7/dist-packages/stable_baselines/common/input.py:25: The name tf.placeholder is deprecated. Please use tf.compat.v1.placeholder instead.\n",
            "\n",
            "WARNING:tensorflow:From /usr/local/lib/python3.7/dist-packages/stable_baselines/common/policies.py:420: flatten (from tensorflow.python.layers.core) is deprecated and will be removed in a future version.\n",
            "Instructions for updating:\n",
            "Use keras.layers.flatten instead.\n",
            "WARNING:tensorflow:From /usr/local/lib/python3.7/dist-packages/tensorflow_core/python/layers/core.py:332: Layer.apply (from tensorflow.python.keras.engine.base_layer) is deprecated and will be removed in a future version.\n",
            "Instructions for updating:\n",
            "Please use `layer.__call__` method instead.\n",
            "WARNING:tensorflow:From /usr/local/lib/python3.7/dist-packages/stable_baselines/common/tf_layers.py:123: The name tf.get_variable is deprecated. Please use tf.compat.v1.get_variable instead.\n",
            "\n",
            "WARNING:tensorflow:From /usr/local/lib/python3.7/dist-packages/stable_baselines/common/distributions.py:326: The name tf.random_uniform is deprecated. Please use tf.random.uniform instead.\n",
            "\n",
            "WARNING:tensorflow:From /usr/local/lib/python3.7/dist-packages/stable_baselines/common/distributions.py:327: The name tf.log is deprecated. Please use tf.math.log instead.\n",
            "\n",
            "WARNING:tensorflow:From /usr/local/lib/python3.7/dist-packages/stable_baselines/a2c/a2c.py:160: The name tf.summary.scalar is deprecated. Please use tf.compat.v1.summary.scalar instead.\n",
            "\n",
            "WARNING:tensorflow:From /usr/local/lib/python3.7/dist-packages/stable_baselines/common/tf_util.py:449: The name tf.get_collection is deprecated. Please use tf.compat.v1.get_collection instead.\n",
            "\n",
            "WARNING:tensorflow:From /usr/local/lib/python3.7/dist-packages/stable_baselines/common/tf_util.py:449: The name tf.GraphKeys is deprecated. Please use tf.compat.v1.GraphKeys instead.\n",
            "\n",
            "WARNING:tensorflow:From /usr/local/lib/python3.7/dist-packages/tensorflow_core/python/ops/clip_ops.py:301: where (from tensorflow.python.ops.array_ops) is deprecated and will be removed in a future version.\n",
            "Instructions for updating:\n",
            "Use tf.where in 2.0, which has the same broadcast rule as np.where\n",
            "WARNING:tensorflow:From /usr/local/lib/python3.7/dist-packages/stable_baselines/a2c/a2c.py:184: The name tf.train.RMSPropOptimizer is deprecated. Please use tf.compat.v1.train.RMSPropOptimizer instead.\n",
            "\n",
            "WARNING:tensorflow:From /usr/local/lib/python3.7/dist-packages/tensorflow_core/python/training/rmsprop.py:119: calling Ones.__init__ (from tensorflow.python.ops.init_ops) with dtype is deprecated and will be removed in a future version.\n",
            "Instructions for updating:\n",
            "Call initializer instance with the dtype argument instead of passing it to the constructor\n",
            "WARNING:tensorflow:From /usr/local/lib/python3.7/dist-packages/stable_baselines/a2c/a2c.py:194: The name tf.global_variables_initializer is deprecated. Please use tf.compat.v1.global_variables_initializer instead.\n",
            "\n",
            "WARNING:tensorflow:From /usr/local/lib/python3.7/dist-packages/stable_baselines/a2c/a2c.py:196: The name tf.summary.merge_all is deprecated. Please use tf.compat.v1.summary.merge_all instead.\n",
            "\n",
            "---------------------------------\n",
            "| explained_variance | 0.0016   |\n",
            "| fps                | 3        |\n",
            "| nupdates           | 1        |\n",
            "| policy_entropy     | 0.693    |\n",
            "| total_timesteps    | 5        |\n",
            "| value_loss         | 111      |\n",
            "---------------------------------\n",
            "---------------------------------\n",
            "| explained_variance | -2.6e-05 |\n",
            "| fps                | 182      |\n",
            "| nupdates           | 100      |\n",
            "| policy_entropy     | 0.693    |\n",
            "| total_timesteps    | 500      |\n",
            "| value_loss         | 2.2e+04  |\n",
            "---------------------------------\n",
            "---------------------------------\n",
            "| explained_variance | 0.0274   |\n",
            "| fps                | 244      |\n",
            "| nupdates           | 200      |\n",
            "| policy_entropy     | 0.693    |\n",
            "| total_timesteps    | 1000     |\n",
            "| value_loss         | 0.0663   |\n",
            "---------------------------------\n"
          ],
          "name": "stdout"
        },
        {
          "output_type": "execute_result",
          "data": {
            "text/plain": [
              "<stable_baselines.a2c.a2c.A2C at 0x7f618a6cd9d0>"
            ]
          },
          "metadata": {
            "tags": []
          },
          "execution_count": 12
        }
      ]
    },
    {
      "cell_type": "code",
      "metadata": {
        "colab": {
          "base_uri": "https://localhost:8080/"
        },
        "id": "riInLwHh4j1w",
        "outputId": "72ef6d96-aee4-4355-ef62-c881173a56e3"
      },
      "source": [
        "#Setting up the Agent Environment\n",
        "env = gym.make('stocks-v0', df=df, frame_bound=(90,110), window_size=5)\n",
        "obs = env.reset()\n",
        "while True:\n",
        "    obs = obs[np.newaxis, ...]\n",
        "    action, _states = model.predict(obs)\n",
        "    obs, rewards, done, info = env.step(action)\n",
        "    if done:\n",
        "        print(\"info\", info)\n",
        "        break"
      ],
      "execution_count": null,
      "outputs": [
        {
          "output_type": "stream",
          "text": [
            "info {'total_reward': -3.9400000000000013, 'total_profit': 0.6695799592016425, 'position': 0}\n"
          ],
          "name": "stdout"
        }
      ]
    },
    {
      "cell_type": "code",
      "metadata": {
        "colab": {
          "base_uri": "https://localhost:8080/",
          "height": 417
        },
        "id": "IeuEY0Ie4jza",
        "outputId": "82451db8-e86f-4081-ed6c-d9a58b06b199"
      },
      "source": [
        "#Plotting our Model for Trained Trades\n",
        "plt.figure(figsize=(15,6))\n",
        "plt.cla()\n",
        "env.render_all()\n",
        "plt.show()"
      ],
      "execution_count": null,
      "outputs": [
        {
          "output_type": "display_data",
          "data": {
            "image/png": "[encoded data removed]",
            "text/plain": [
              "<Figure size 1080x432 with 1 Axes>"
            ]
          },
          "metadata": {
            "tags": [],
            "needs_background": "light"
          }
        }
      ]
    },
    {
      "cell_type": "code",
      "metadata": {
        "id": "1Ke0m_vT4jxJ"
      },
      "source": [],
      "execution_count": null,
      "outputs": []
    },
    {
      "cell_type": "code",
      "metadata": {
        "id": "14LvBWc44ju6"
      },
      "source": [],
      "execution_count": null,
      "outputs": []
    },
    {
      "cell_type": "code",
      "metadata": {
        "id": "Pyr0HiyK4jsj"
      },
      "source": [],
      "execution_count": null,
      "outputs": []
    }
  ]
}