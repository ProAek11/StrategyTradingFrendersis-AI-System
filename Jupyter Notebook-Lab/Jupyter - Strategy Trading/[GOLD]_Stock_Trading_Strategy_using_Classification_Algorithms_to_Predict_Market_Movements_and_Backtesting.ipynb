{
  "cells": [
    {
      "cell_type": "markdown",
      "metadata": {
        "colab_type": "text",
        "id": "view-in-github"
      },
      "source": [
        "<a href=\"https://colab.research.google.com/github/ProAek11/AI-SignalTradingSystem-Tested1-/blob/master/%5BGOLD%5D_Stock_Trading_Strategy_using_Classification_Algorithms_to_Predict_Market_Movements_and_Backtesting.ipynb\" target=\"_parent\"><img src=\"https://colab.research.google.com/assets/colab-badge.svg\" alt=\"Open In Colab\"/></a>"
      ]
    },
    {
      "cell_type": "code",
      "execution_count": null,
      "metadata": {
        "id": "N4ODFjk7Mepc",
        "vscode": {
          "languageId": "python"
        }
      },
      "outputs": [],
      "source": [
        "!pip install yfinance update\n",
        "!pip install seaborn update\n",
        "!pip install pyfolio update\n",
        "!pip install backtrader update\n"
      ]
    },
    {
      "cell_type": "code",
      "execution_count": null,
      "metadata": {
        "id": "9k_LYkynNNzS",
        "vscode": {
          "languageId": "python"
        }
      },
      "outputs": [],
      "source": [
        "# make the necessary imports \n",
        "import numpy as np\n",
        "from matplotlib import pyplot as plt\n",
        "import pandas as pd\n",
        "import seaborn as sns\n",
        "import yfinance as yf\n",
        "import warnings\n",
        "from sklearn import linear_model\n",
        "from sklearn.naive_bayes import GaussianNB\n",
        "from sklearn.svm import SVC\n",
        "from sklearn.ensemble import RandomForestClassifier\n",
        "from sklearn.neural_network import MLPClassifier\n",
        "import datetime\n",
        "import time\n",
        "import pyfolio as pf\n",
        "import backtrader as bt\n",
        "from backtrader.feeds import PandasData\n",
        "import warnings\n",
        "\n",
        "# set the style and ignore warnings\n",
        "plt.style.use('seaborn-colorblind')\n",
        "warnings.simplefilter(action='ignore', category=FutureWarning)\n",
        "warnings.filterwarnings('ignore')"
      ]
    },
    {
      "cell_type": "code",
      "execution_count": null,
      "metadata": {
        "id": "b6mbcSihOWIK",
        "vscode": {
          "languageId": "python"
        }
      },
      "outputs": [],
      "source": [
        "\n",
        "# this is to display images in notebook\n",
        "%matplotlib inline\n",
        "%config InlineBackend.figure_format = 'retina'"
      ]
    },
    {
      "cell_type": "code",
      "execution_count": null,
      "metadata": {
        "id": "PIQt4EtpPQsy",
        "vscode": {
          "languageId": "python"
        }
      },
      "outputs": [],
      "source": [
        "# ticker and the start and end dates for testing\n",
        "ticker = 'BTC-USD' #BTCUSD\n",
        "today = time.strftime(\"%Y/%m/%d\")\n",
        "start = datetime.datetime(2010, 1, 1)\n",
        "end = datetime.datetime(2021, 2, 6)\n",
        "#end = datetime.datetime(2020, 7, 31)"
      ]
    },
    {
      "cell_type": "code",
      "execution_count": null,
      "metadata": {
        "id": "nzptRJJ3PaSC",
        "vscode": {
          "languageId": "python"
        }
      },
      "outputs": [],
      "source": [
        "# download ticker ‘Adj Close’ price from yahoo finance\n",
        "stock =  yf.download(ticker, progress=True, actions=True,start=start, end=end)['Adj Close']\n",
        "stock = pd.DataFrame(stock)\n",
        "stock.rename(columns = {'Adj Close':ticker}, inplace=True)\n",
        "stock.head(2)"
      ]
    },
    {
      "cell_type": "code",
      "execution_count": null,
      "metadata": {
        "id": "Kw23CkSOPcPp",
        "vscode": {
          "languageId": "python"
        }
      },
      "outputs": [],
      "source": [
        "# calculate daily log returns and market direction\n",
        "stock['returns'] = np.log(stock / stock.shift(1))\n",
        "stock.dropna(inplace=True)\n",
        "stock['direction'] = np.sign(stock['returns']).astype(int)\n",
        "stock.head(3)"
      ]
    },
    {
      "cell_type": "code",
      "execution_count": null,
      "metadata": {
        "id": "fQnyWNdJPe1A",
        "vscode": {
          "languageId": "python"
        }
      },
      "outputs": [],
      "source": [
        "# visualize the closing price and daily returns\n",
        "fig, ax = plt.subplots(2, 1, sharex=True, figsize = (12,6))\n",
        "ax[0].plot(stock[ticker], label = f'{ticker} Adj Close')\n",
        "ax[0].set(title = f'{ticker} Closing Price', ylabel = 'Price')\n",
        "ax[0].grid(True)\n",
        "ax[0].legend()\n",
        "\n",
        "ax[1].plot(stock['returns'], label = 'Daily Returns')\n",
        "ax[1].set(title = f'{ticker} Daily Retunrs', ylabel = 'Returns')\n",
        "ax[1].grid(True)\n",
        "plt.legend()\n",
        "\n",
        "plt.tight_layout();\n",
        "plt.savefig('images/chart1', dpi=300)"
      ]
    },
    {
      "cell_type": "code",
      "execution_count": null,
      "metadata": {
        "id": "S48LKKp0Ph5R",
        "vscode": {
          "languageId": "python"
        }
      },
      "outputs": [],
      "source": [
        "# define the number of lags\n",
        "lags = [1, 2, 3, 4, 5]"
      ]
    },
    {
      "cell_type": "code",
      "execution_count": null,
      "metadata": {
        "id": "BJPK2hHJP1DI",
        "vscode": {
          "languageId": "python"
        }
      },
      "outputs": [],
      "source": [
        "# compute lagged log returns\n",
        "cols = []\n",
        "for lag in lags:\n",
        "    col = f'rtn_lag{lag}'\n",
        "    stock[col] = stock['returns'].shift(lag)\n",
        "    cols.append(col)\n",
        "\n",
        "stock.dropna(inplace=True)\n",
        "stock.head(2)"
      ]
    },
    {
      "cell_type": "code",
      "execution_count": null,
      "metadata": {
        "id": "x2FQSEmFP3LB",
        "vscode": {
          "languageId": "python"
        }
      },
      "outputs": [],
      "source": [
        "# function to transform the lag returns to binary values (0,+1)\n",
        "def create_bins(data, bins=[0]):\n",
        "    global cols_bin\n",
        "    cols_bin = []\n",
        "    for col in cols:\n",
        "        col_bin = col + '_bin'\n",
        "        data[col_bin] = np.digitize(data[col], bins=bins)  \n",
        "        cols_bin.append(col_bin)"
      ]
    },
    {
      "cell_type": "code",
      "execution_count": null,
      "metadata": {
        "id": "ASCMrpYLP5wI",
        "vscode": {
          "languageId": "python"
        }
      },
      "outputs": [],
      "source": [
        "create_bins(stock)\n",
        "stock[cols+cols_bin].head(2)"
      ]
    },
    {
      "cell_type": "code",
      "execution_count": null,
      "metadata": {
        "id": "8pJTuqCaP8Bh",
        "vscode": {
          "languageId": "python"
        }
      },
      "outputs": [],
      "source": [
        "\n",
        "# create a dictionary of selected algorithms\n",
        "models = {\n",
        "    'log_reg': linear_model.LogisticRegression(),\n",
        "    'gauss_nb': GaussianNB(),\n",
        "    'svm': SVC(),\n",
        "    'random_forest': RandomForestClassifier(max_depth=10, n_estimators=100),\n",
        "    'MLP' : MLPClassifier(max_iter=500),\n",
        "}"
      ]
    },
    {
      "cell_type": "code",
      "execution_count": null,
      "metadata": {
        "id": "vi7pPn5oQFCb",
        "vscode": {
          "languageId": "python"
        }
      },
      "outputs": [],
      "source": [
        "# function that fits all models.\n",
        "def fit_models(data):  \n",
        "    mfit = {model: models[model].fit(data[cols_bin], data['direction']) for model in models.keys()}"
      ]
    },
    {
      "cell_type": "code",
      "execution_count": null,
      "metadata": {
        "id": "T9fFRQQiQIcL",
        "vscode": {
          "languageId": "python"
        }
      },
      "outputs": [],
      "source": [
        "# function that predicts (derives all position values) from the fitted models\n",
        "def derive_positions(data):  \n",
        "    for model in models.keys():\n",
        "        data['pos_' + model] = models[model].predict(data[cols_bin])"
      ]
    },
    {
      "cell_type": "code",
      "execution_count": null,
      "metadata": {
        "id": "UGR2fFvsQKVx",
        "vscode": {
          "languageId": "python"
        }
      },
      "outputs": [],
      "source": [
        "# function to evaluate all trading strategies\n",
        "def evaluate_strats(data):  \n",
        "    global strategy_rtn\n",
        "    strategy_rtn = []\n",
        "    for model in models.keys():\n",
        "        col = 'strategy_' + model \n",
        "        data[col] = data['pos_' + model] * data['returns']\n",
        "        strategy_rtn.append(col)\n",
        "    strategy_rtn.insert(0, 'returns')"
      ]
    },
    {
      "cell_type": "code",
      "execution_count": null,
      "metadata": {
        "id": "lthOoXwWQMQH",
        "vscode": {
          "languageId": "python"
        }
      },
      "outputs": [],
      "source": [
        "\n",
        "# fit the models\n",
        "fit_models(stock)"
      ]
    },
    {
      "cell_type": "code",
      "execution_count": null,
      "metadata": {
        "id": "MNeXkkm3QONA",
        "vscode": {
          "languageId": "python"
        }
      },
      "outputs": [],
      "source": [
        "# derives all position values\n",
        "derive_positions(stock)"
      ]
    },
    {
      "cell_type": "code",
      "execution_count": null,
      "metadata": {
        "id": "2e6NnI_WQQjP",
        "vscode": {
          "languageId": "python"
        }
      },
      "outputs": [],
      "source": [
        "# evaluate all trading strategies by multiplying predicted directions to actual daily returns\n",
        "evaluate_strats(stock)"
      ]
    },
    {
      "cell_type": "code",
      "execution_count": null,
      "metadata": {
        "id": "xj2mGMjSQSZI",
        "vscode": {
          "languageId": "python"
        }
      },
      "outputs": [],
      "source": [
        "# calculate total return and std. deviation of each strategy\n",
        "print('\\nTotal Returns:')\n",
        "print(stock[strategy_rtn].sum().apply(np.exp))\n",
        "print('\\nAnnual Volatility:')\n",
        "stock[strategy_rtn].std() * 252 ** 0.5"
      ]
    },
    {
      "cell_type": "code",
      "execution_count": null,
      "metadata": {
        "id": "qCaSyVydQUOp",
        "vscode": {
          "languageId": "python"
        }
      },
      "outputs": [],
      "source": [
        "\n",
        "# number of trades over time for highest and second highest return strategy\n",
        "print('Number of trades SVM = ', (stock['pos_svm'].diff()!=0).sum())\n",
        "print('Number of trades Ramdom Forest = ',(stock['pos_random_forest'].diff()!=0).sum())\n",
        "print('Number of trades strategy MLP = ',(stock['pos_MLP'].diff()!=0).sum())"
      ]
    },
    {
      "cell_type": "code",
      "execution_count": null,
      "metadata": {
        "id": "lpgge673QW74",
        "vscode": {
          "languageId": "python"
        }
      },
      "outputs": [],
      "source": [
        "# stock[[ticker]+ strategy_rtn].head(2)"
      ]
    },
    {
      "cell_type": "code",
      "execution_count": null,
      "metadata": {
        "id": "DCSf4H57QY1R",
        "vscode": {
          "languageId": "python"
        }
      },
      "outputs": [],
      "source": [
        "# vectorized backtesting of the resulting trading strategies and visualize the performance over time\n",
        "ax = stock[strategy_rtn].cumsum().apply(np.exp).plot(figsize=(12, 6), \n",
        "                                                     title = 'Machine Learning Classifiers Return Comparison')\n",
        "ax.set_ylabel(\"Cumulative Returns\")\n",
        "ax.grid(True);\n",
        "plt.tight_layout();\n",
        "plt.savefig('images/chart2', dpi=300)"
      ]
    },
    {
      "cell_type": "code",
      "execution_count": null,
      "metadata": {
        "id": "bx6axjM0QbsU",
        "vscode": {
          "languageId": "python"
        }
      },
      "outputs": [],
      "source": [
        "# fetch the daily pricing data from yahoo finance\n",
        "prices =  yf.download(ticker, progress=True, actions=True, start=start, end=end)\n",
        "prices.head(2)"
      ]
    },
    {
      "cell_type": "code",
      "execution_count": null,
      "metadata": {
        "id": "eOKq8o8EQ9nn",
        "vscode": {
          "languageId": "python"
        }
      },
      "outputs": [],
      "source": [
        "# rename the columns as needed for Backtrader\n",
        "prices.drop(['Close','Dividends','Stock Splits'], inplace=True, axis=1)\n",
        "prices.rename(columns = {'Open':'open','High':'high','Low':'low','Adj Close':'close','Volume':'volume',\n",
        "                         }, inplace=True)"
      ]
    },
    {
      "cell_type": "code",
      "execution_count": null,
      "metadata": {
        "id": "xKu_UTk1Q_3Y",
        "vscode": {
          "languageId": "python"
        }
      },
      "outputs": [],
      "source": [
        "prices.head(3)"
      ]
    },
    {
      "cell_type": "code",
      "execution_count": null,
      "metadata": {
        "id": "XpnQnBAFRCFH",
        "vscode": {
          "languageId": "python"
        }
      },
      "outputs": [],
      "source": [
        "\n",
        "# add the predicted column to prices dataframe. This will be used as signal for buy or sell\n",
        "predictions = stock['strategy_svm']\n",
        "predictions = pd.DataFrame(predictions)\n",
        "predictions.rename(columns = {'strategy_svm':'predicted'}, inplace=True)\n",
        "prices = predictions.join(prices, how='right').dropna()\n",
        "prices.head(2)"
      ]
    },
    {
      "cell_type": "code",
      "execution_count": null,
      "metadata": {
        "id": "o226OA9URD5e",
        "vscode": {
          "languageId": "python"
        }
      },
      "outputs": [],
      "source": [
        "# prices[['predicted']].sum().apply(np.exp)"
      ]
    },
    {
      "cell_type": "code",
      "execution_count": null,
      "metadata": {
        "id": "-FL9Go7lRIDG",
        "vscode": {
          "languageId": "python"
        }
      },
      "outputs": [],
      "source": [
        "OHLCV = ['open', 'high', 'low', 'close', 'volume']"
      ]
    },
    {
      "cell_type": "code",
      "execution_count": null,
      "metadata": {
        "id": "FuOTrXyMRKQb",
        "vscode": {
          "languageId": "python"
        }
      },
      "outputs": [],
      "source": [
        "# class to define the columns we will provide\n",
        "class SignalData(PandasData):\n",
        "    \"\"\"\n",
        "    Define pandas DataFrame structure\n",
        "    \"\"\"\n",
        "    cols = OHLCV + ['predicted']\n",
        "\n",
        "    # create lines\n",
        "    lines = tuple(cols)\n",
        "\n",
        "    # define parameters\n",
        "    params = {c: -1 for c in cols}\n",
        "    params.update({'datetime': None})\n",
        "    params = tuple(params.items())"
      ]
    },
    {
      "cell_type": "code",
      "execution_count": null,
      "metadata": {
        "id": "e7mMJYy0ROKV",
        "vscode": {
          "languageId": "python"
        }
      },
      "outputs": [],
      "source": [
        "# define backtesting strategy class\n",
        "class MLStrategy(bt.Strategy):\n",
        "    params = dict(\n",
        "    )\n",
        "    \n",
        "    def __init__(self):\n",
        "        # keep track of open, close prices and predicted value in the series\n",
        "        self.data_predicted = self.datas[0].predicted\n",
        "        self.data_open = self.datas[0].open\n",
        "        self.data_close = self.datas[0].close\n",
        "        \n",
        "        # keep track of pending orders/buy price/buy commission\n",
        "        self.order = None\n",
        "        self.price = None\n",
        "        self.comm = None\n",
        "\n",
        "    # logging function\n",
        "    def log(self, txt):\n",
        "        '''Logging function'''\n",
        "        dt = self.datas[0].datetime.date(0).isoformat()\n",
        "        print(f'{dt}, {txt}')\n",
        "\n",
        "    def notify_order(self, order):\n",
        "        if order.status in [order.Submitted, order.Accepted]:\n",
        "            # order already submitted/accepted - no action required\n",
        "            return\n",
        "\n",
        "        # report executed order\n",
        "        if order.status in [order.Completed]:\n",
        "            if order.isbuy():\n",
        "                self.log(f'BUY EXECUTED --- Price: {order.executed.price:.2f}, Cost: {order.executed.value:.2f},Commission: {order.executed.comm:.2f}'\n",
        "                )\n",
        "                self.price = order.executed.price\n",
        "                self.comm = order.executed.comm\n",
        "            else:\n",
        "                self.log(f'SELL EXECUTED --- Price: {order.executed.price:.2f}, Cost: {order.executed.value:.2f},Commission: {order.executed.comm:.2f}'\n",
        "                )\n",
        "\n",
        "        # report failed order\n",
        "        elif order.status in [order.Canceled, order.Margin, \n",
        "                              order.Rejected]:\n",
        "            self.log('Order Failed')\n",
        "\n",
        "        # set no pending order\n",
        "        self.order = None\n",
        "\n",
        "    def notify_trade(self, trade):\n",
        "        if not trade.isclosed:\n",
        "            return\n",
        "        self.log(f'OPERATION RESULT --- Gross: {trade.pnl:.2f}, Net: {trade.pnlcomm:.2f}')\n",
        "\n",
        "    # We have set cheat_on_open = True.This means that we calculated the signals on day t's close price, \n",
        "    # but calculated the number of shares we wanted to buy based on day t+1's open price.\n",
        "    def next_open(self):\n",
        "        if not self.position:\n",
        "            if self.data_predicted > 0:\n",
        "                # calculate the max number of shares ('all-in')\n",
        "                size = int(self.broker.getcash() / self.datas[0].open)\n",
        "                # buy order\n",
        "                self.log(f'BUY CREATED --- Size: {size}, Cash: {self.broker.getcash():.2f}, Open: {self.data_open[0]}, Close: {self.data_close[0]}')\n",
        "                self.buy(size=size)\n",
        "        else:\n",
        "            if self.data_predicted < 0:\n",
        "                # sell order\n",
        "                self.log(f'SELL CREATED --- Size: {self.position.size}')\n",
        "                self.sell(size=self.position.size)"
      ]
    },
    {
      "cell_type": "code",
      "execution_count": null,
      "metadata": {
        "id": "QOeKvTZ2RRv4",
        "vscode": {
          "languageId": "python"
        }
      },
      "outputs": [],
      "source": [
        "# instantiate SignalData class\n",
        "data = SignalData(dataname=prices)"
      ]
    },
    {
      "cell_type": "code",
      "execution_count": null,
      "metadata": {
        "id": "PA0kCdE6RbwO",
        "vscode": {
          "languageId": "python"
        }
      },
      "outputs": [],
      "source": [
        "# instantiate Cerebro, add strategy, data, initial cash, commission and pyfolio for performance analysis\n",
        "cerebro = bt.Cerebro(stdstats = False, cheat_on_open=True)\n",
        "cerebro.addstrategy(MLStrategy)\n",
        "cerebro.adddata(data, name=ticker)\n",
        "cerebro.broker.setcash(10000.0)\n",
        "cerebro.broker.setcommission(commission=0.000)\n",
        "cerebro.addanalyzer(bt.analyzers.PyFolio, _name='pyfolio')"
      ]
    },
    {
      "cell_type": "code",
      "execution_count": null,
      "metadata": {
        "id": "TiCklpEDRl__",
        "vscode": {
          "languageId": "python"
        }
      },
      "outputs": [],
      "source": [
        "# run the backtest\n",
        "print('Starting Portfolio Value: %.2f' % cerebro.broker.getvalue())\n",
        "backtest_result = cerebro.run()\n",
        "print('Final Portfolio Value: %.2f' % cerebro.broker.getvalue())"
      ]
    },
    {
      "cell_type": "code",
      "execution_count": null,
      "metadata": {
        "id": "Lhy1GGk7RoaY",
        "vscode": {
          "languageId": "python"
        }
      },
      "outputs": [],
      "source": [
        "# Extract inputs for pyfolio\n",
        "strat = backtest_result[0]\n",
        "pyfoliozer = strat.analyzers.getbyname('pyfolio')\n",
        "returns, positions, transactions, gross_lev = pyfoliozer.get_pf_items()\n",
        "returns.name = 'Strategy'\n",
        "returns.head(2)"
      ]
    },
    {
      "cell_type": "code",
      "execution_count": null,
      "metadata": {
        "id": "VkUEirwUSWRI",
        "vscode": {
          "languageId": "python"
        }
      },
      "outputs": [],
      "source": [
        "# get benchmark returns\n",
        "benchmark_rets= stock['returns']\n",
        "benchmark_rets.index = benchmark_rets.index.tz_localize('UTC') \n",
        "benchmark_rets = benchmark_rets.filter(returns.index)\n",
        "benchmark_rets.name = 'Nifty-50'\n",
        "benchmark_rets.head(2)"
      ]
    },
    {
      "cell_type": "code",
      "execution_count": null,
      "metadata": {
        "id": "obYlZ6KjSZpi",
        "vscode": {
          "languageId": "python"
        }
      },
      "outputs": [],
      "source": [
        "# get performance statistics for strategy\n",
        "pf.show_perf_stats(returns)"
      ]
    },
    {
      "cell_type": "code",
      "execution_count": null,
      "metadata": {
        "id": "YMIsrjVKSdMq",
        "vscode": {
          "languageId": "python"
        }
      },
      "outputs": [],
      "source": [
        "# plot performance for strategy vs benchmark\n",
        "fig, ax = plt.subplots(nrows=2, ncols=2, figsize=(16, 9),constrained_layout=True)\n",
        "axes = ax.flatten()\n",
        "\n",
        "pf.plot_drawdown_periods(returns=returns, ax=axes[0])\n",
        "axes[0].grid(True)\n",
        "pf.plot_rolling_returns(returns=returns,\n",
        "                        factor_returns=benchmark_rets,\n",
        "                        ax=axes[1], title='Strategy vs Nifty-50')\n",
        "axes[1].grid(True)\n",
        "pf.plot_drawdown_underwater(returns=returns, ax=axes[2])\n",
        "axes[2].grid(True)\n",
        "pf.plot_rolling_sharpe(returns=returns, ax=axes[3])\n",
        "axes[3].grid(True)\n",
        "# fig.suptitle('Strategy vs Nifty-50 (Buy and Hold)', fontsize=16, y=0.990)\n",
        "\n",
        "plt.grid(True)\n",
        "plt.legend()\n",
        "plt.tight_layout()\n",
        "plt.savefig('images/chart3', dpi=300)"
      ]
    },
    {
      "cell_type": "code",
      "execution_count": null,
      "metadata": {
        "id": "1BLl53X6Sh2m",
        "vscode": {
          "languageId": "python"
        }
      },
      "outputs": [],
      "source": [
        "# plot performance for strategy vs benchmark\n",
        "fig, ax = plt.subplots(nrows=2, ncols=2, figsize=(16, 9),constrained_layout=True)\n",
        "axes = ax.flatten()\n",
        "\n",
        "pf.plot_rolling_beta(returns=returns, factor_returns=benchmark_rets, ax=axes[0])\n",
        "axes[0].grid(True)\n",
        "\n",
        "pf.plot_rolling_volatility(returns=returns, factor_returns=benchmark_rets,ax=axes[1])\n",
        "axes[1].grid(True)\n",
        "\n",
        "pf.plot_annual_returns(returns=returns, ax=axes[2])\n",
        "axes[2].grid(True)\n",
        "\n",
        "pf.plot_monthly_returns_heatmap(returns=returns, ax=axes[3],)\n",
        "# fig.suptitle('BL Portfolio vs BSE-SENSEX - 2', fontsize=16, y=1.0)\n",
        "\n",
        "\n",
        "plt.tight_layout()\n",
        "plt.savefig('images/chart4', dpi=300)"
      ]
    },
    {
      "cell_type": "code",
      "execution_count": null,
      "metadata": {
        "id": "tbtWieWUS9mF",
        "vscode": {
          "languageId": "python"
        }
      },
      "outputs": [],
      "source": []
    }
  ],
  "metadata": {
    "accelerator": "GPU",
    "colab": {
      "authorship_tag": "ABX9TyNaPZ3uhgP579nutBD2oztC",
      "collapsed_sections": [],
      "include_colab_link": true,
      "name": "[GOLD]-Stock Trading Strategy using Classification Algorithms to Predict Market Movements and Backtesting.ipynb",
      "private_outputs": true,
      "provenance": []
    },
    "kernelspec": {
      "display_name": "Python 3",
      "name": "python3"
    }
  },
  "nbformat": 4,
  "nbformat_minor": 0
}
