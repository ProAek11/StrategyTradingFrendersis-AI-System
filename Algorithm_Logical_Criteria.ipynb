{
  "cells": [
    {
      "cell_type": "markdown",
      "metadata": {
        "id": "view-in-github",
        "colab_type": "text"
      },
      "source": [
        "<a href=\"https://colab.research.google.com/github/ProAek11/StrategyTradingFrendersis-AI-System/blob/main/Algorithm_Logical_Criteria.ipynb\" target=\"_parent\"><img src=\"https://colab.research.google.com/assets/colab-badge.svg\" alt=\"Open In Colab\"/></a>"
      ]
    },
    {
      "cell_type": "markdown",
      "id": "05a8fd91",
      "metadata": {
        "id": "05a8fd91"
      },
      "source": [
        "# Algorithm & Logical Criteria of Strategy Trading to Decision Trade Entry.\n"
      ]
    },
    {
      "cell_type": "markdown",
      "source": [],
      "metadata": {
        "id": "X-M9TYfhHcRv"
      },
      "id": "X-M9TYfhHcRv"
    },
    {
      "cell_type": "markdown",
      "source": [
        "## ***Pip Install Requestments All Total***"
      ],
      "metadata": {
        "id": "K1LWXCn1HHPt"
      },
      "id": "K1LWXCn1HHPt"
    },
    {
      "cell_type": "markdown",
      "source": [
        "*Pip Install Pandas All Total*"
      ],
      "metadata": {
        "id": "LYEuspcQHik3"
      },
      "id": "LYEuspcQHik3"
    },
    {
      "cell_type": "code",
      "source": [
        "!pip install pandas\n",
        "!pip install pandas_datareader"
      ],
      "metadata": {
        "colab": {
          "base_uri": "https://localhost:8080/"
        },
        "id": "jnPD3FGuHgVg",
        "outputId": "de16bada-b194-4bdd-9471-8731c9972791"
      },
      "id": "jnPD3FGuHgVg",
      "execution_count": null,
      "outputs": [
        {
          "output_type": "stream",
          "name": "stdout",
          "text": [
            "Requirement already satisfied: pandas in /usr/local/lib/python3.10/dist-packages (1.5.3)\n",
            "Requirement already satisfied: python-dateutil>=2.8.1 in /usr/local/lib/python3.10/dist-packages (from pandas) (2.8.2)\n",
            "Requirement already satisfied: pytz>=2020.1 in /usr/local/lib/python3.10/dist-packages (from pandas) (2023.3.post1)\n",
            "Requirement already satisfied: numpy>=1.21.0 in /usr/local/lib/python3.10/dist-packages (from pandas) (1.23.5)\n",
            "Requirement already satisfied: six>=1.5 in /usr/local/lib/python3.10/dist-packages (from python-dateutil>=2.8.1->pandas) (1.16.0)\n",
            "Requirement already satisfied: pandas_datareader in /usr/local/lib/python3.10/dist-packages (0.10.0)\n",
            "Requirement already satisfied: lxml in /usr/local/lib/python3.10/dist-packages (from pandas_datareader) (4.9.3)\n",
            "Requirement already satisfied: pandas>=0.23 in /usr/local/lib/python3.10/dist-packages (from pandas_datareader) (1.5.3)\n",
            "Requirement already satisfied: requests>=2.19.0 in /usr/local/lib/python3.10/dist-packages (from pandas_datareader) (2.31.0)\n",
            "Requirement already satisfied: python-dateutil>=2.8.1 in /usr/local/lib/python3.10/dist-packages (from pandas>=0.23->pandas_datareader) (2.8.2)\n",
            "Requirement already satisfied: pytz>=2020.1 in /usr/local/lib/python3.10/dist-packages (from pandas>=0.23->pandas_datareader) (2023.3.post1)\n",
            "Requirement already satisfied: numpy>=1.21.0 in /usr/local/lib/python3.10/dist-packages (from pandas>=0.23->pandas_datareader) (1.23.5)\n",
            "Requirement already satisfied: charset-normalizer<4,>=2 in /usr/local/lib/python3.10/dist-packages (from requests>=2.19.0->pandas_datareader) (3.3.0)\n",
            "Requirement already satisfied: idna<4,>=2.5 in /usr/local/lib/python3.10/dist-packages (from requests>=2.19.0->pandas_datareader) (3.4)\n",
            "Requirement already satisfied: urllib3<3,>=1.21.1 in /usr/local/lib/python3.10/dist-packages (from requests>=2.19.0->pandas_datareader) (2.0.7)\n",
            "Requirement already satisfied: certifi>=2017.4.17 in /usr/local/lib/python3.10/dist-packages (from requests>=2.19.0->pandas_datareader) (2023.7.22)\n",
            "Requirement already satisfied: six>=1.5 in /usr/local/lib/python3.10/dist-packages (from python-dateutil>=2.8.1->pandas>=0.23->pandas_datareader) (1.16.0)\n"
          ]
        }
      ]
    },
    {
      "cell_type": "markdown",
      "source": [
        "*Pip Install Yahoo Finncial All Total*"
      ],
      "metadata": {
        "id": "pt0REOOpGx-p"
      },
      "id": "pt0REOOpGx-p"
    },
    {
      "cell_type": "code",
      "source": [
        "!pip install Yahoo-ticker-downloader\n",
        "!pip install yfinance\n",
        "!pip install yahoo-finance\n",
        "!pip install yahoo-finance fix\n",
        "!pip install yfinance fix"
      ],
      "metadata": {
        "colab": {
          "base_uri": "https://localhost:8080/"
        },
        "id": "aTuwwdz5Gtix",
        "outputId": "ade4e05c-2a27-48be-c03a-742336af3bac"
      },
      "id": "aTuwwdz5Gtix",
      "execution_count": null,
      "outputs": [
        {
          "output_type": "stream",
          "name": "stdout",
          "text": [
            "Collecting Yahoo-ticker-downloader\n",
            "  Downloading Yahoo-ticker-downloader-3.0.1.tar.gz (8.6 kB)\n",
            "  Preparing metadata (setup.py) ... \u001b[?25l\u001b[?25hdone\n",
            "Requirement already satisfied: requests>=2.4.3 in /usr/local/lib/python3.10/dist-packages (from Yahoo-ticker-downloader) (2.31.0)\n",
            "Collecting tablib>=0.9.11 (from Yahoo-ticker-downloader)\n",
            "  Downloading tablib-3.5.0-py3-none-any.whl (45 kB)\n",
            "\u001b[2K     \u001b[90m━━━━━━━━━━━━━━━━━━━━━━━━━━━━━━━━━━━━━━━━\u001b[0m \u001b[32m45.5/45.5 kB\u001b[0m \u001b[31m972.6 kB/s\u001b[0m eta \u001b[36m0:00:00\u001b[0m\n",
            "\u001b[?25hCollecting backports.csv>=1.0.4 (from Yahoo-ticker-downloader)\n",
            "  Downloading backports.csv-1.0.7-py2.py3-none-any.whl (12 kB)\n",
            "Requirement already satisfied: charset-normalizer<4,>=2 in /usr/local/lib/python3.10/dist-packages (from requests>=2.4.3->Yahoo-ticker-downloader) (3.3.0)\n",
            "Requirement already satisfied: idna<4,>=2.5 in /usr/local/lib/python3.10/dist-packages (from requests>=2.4.3->Yahoo-ticker-downloader) (3.4)\n",
            "Requirement already satisfied: urllib3<3,>=1.21.1 in /usr/local/lib/python3.10/dist-packages (from requests>=2.4.3->Yahoo-ticker-downloader) (2.0.7)\n",
            "Requirement already satisfied: certifi>=2017.4.17 in /usr/local/lib/python3.10/dist-packages (from requests>=2.4.3->Yahoo-ticker-downloader) (2023.7.22)\n",
            "Building wheels for collected packages: Yahoo-ticker-downloader\n",
            "  Building wheel for Yahoo-ticker-downloader (setup.py) ... \u001b[?25l\u001b[?25hdone\n",
            "  Created wheel for Yahoo-ticker-downloader: filename=Yahoo_ticker_downloader-3.0.1-py3-none-any.whl size=10165 sha256=28ec0ac12f9f167fdc147b4f948ce32e645c6052f87bde787e786115cea5b91b\n",
            "  Stored in directory: /root/.cache/pip/wheels/d0/e8/c5/096d50b106a31b8631622e87cecf82053bf0887e289624f05c\n",
            "Successfully built Yahoo-ticker-downloader\n",
            "Installing collected packages: backports.csv, tablib, Yahoo-ticker-downloader\n",
            "Successfully installed Yahoo-ticker-downloader-3.0.1 backports.csv-1.0.7 tablib-3.5.0\n",
            "Requirement already satisfied: yfinance in /usr/local/lib/python3.10/dist-packages (0.2.31)\n",
            "Requirement already satisfied: pandas>=1.3.0 in /usr/local/lib/python3.10/dist-packages (from yfinance) (1.5.3)\n",
            "Requirement already satisfied: numpy>=1.16.5 in /usr/local/lib/python3.10/dist-packages (from yfinance) (1.23.5)\n",
            "Requirement already satisfied: requests>=2.31 in /usr/local/lib/python3.10/dist-packages (from yfinance) (2.31.0)\n",
            "Requirement already satisfied: multitasking>=0.0.7 in /usr/local/lib/python3.10/dist-packages (from yfinance) (0.0.11)\n",
            "Requirement already satisfied: lxml>=4.9.1 in /usr/local/lib/python3.10/dist-packages (from yfinance) (4.9.3)\n",
            "Requirement already satisfied: appdirs>=1.4.4 in /usr/local/lib/python3.10/dist-packages (from yfinance) (1.4.4)\n",
            "Requirement already satisfied: pytz>=2022.5 in /usr/local/lib/python3.10/dist-packages (from yfinance) (2023.3.post1)\n",
            "Requirement already satisfied: frozendict>=2.3.4 in /usr/local/lib/python3.10/dist-packages (from yfinance) (2.3.8)\n",
            "Requirement already satisfied: peewee>=3.16.2 in /usr/local/lib/python3.10/dist-packages (from yfinance) (3.17.0)\n",
            "Requirement already satisfied: beautifulsoup4>=4.11.1 in /usr/local/lib/python3.10/dist-packages (from yfinance) (4.11.2)\n",
            "Requirement already satisfied: html5lib>=1.1 in /usr/local/lib/python3.10/dist-packages (from yfinance) (1.1)\n",
            "Requirement already satisfied: soupsieve>1.2 in /usr/local/lib/python3.10/dist-packages (from beautifulsoup4>=4.11.1->yfinance) (2.5)\n",
            "Requirement already satisfied: six>=1.9 in /usr/local/lib/python3.10/dist-packages (from html5lib>=1.1->yfinance) (1.16.0)\n",
            "Requirement already satisfied: webencodings in /usr/local/lib/python3.10/dist-packages (from html5lib>=1.1->yfinance) (0.5.1)\n",
            "Requirement already satisfied: python-dateutil>=2.8.1 in /usr/local/lib/python3.10/dist-packages (from pandas>=1.3.0->yfinance) (2.8.2)\n",
            "Requirement already satisfied: charset-normalizer<4,>=2 in /usr/local/lib/python3.10/dist-packages (from requests>=2.31->yfinance) (3.3.0)\n",
            "Requirement already satisfied: idna<4,>=2.5 in /usr/local/lib/python3.10/dist-packages (from requests>=2.31->yfinance) (3.4)\n",
            "Requirement already satisfied: urllib3<3,>=1.21.1 in /usr/local/lib/python3.10/dist-packages (from requests>=2.31->yfinance) (2.0.7)\n",
            "Requirement already satisfied: certifi>=2017.4.17 in /usr/local/lib/python3.10/dist-packages (from requests>=2.31->yfinance) (2023.7.22)\n",
            "Collecting yahoo-finance\n",
            "  Downloading yahoo-finance-1.4.0.tar.gz (8.9 kB)\n",
            "  Preparing metadata (setup.py) ... \u001b[?25l\u001b[?25hdone\n",
            "Requirement already satisfied: pytz in /usr/local/lib/python3.10/dist-packages (from yahoo-finance) (2023.3.post1)\n",
            "Collecting simplejson (from yahoo-finance)\n",
            "  Downloading simplejson-3.19.2-cp310-cp310-manylinux_2_5_x86_64.manylinux1_x86_64.manylinux_2_17_x86_64.manylinux2014_x86_64.whl (137 kB)\n",
            "\u001b[2K     \u001b[90m━━━━━━━━━━━━━━━━━━━━━━━━━━━━━━━━━━━━━━━━\u001b[0m \u001b[32m137.9/137.9 kB\u001b[0m \u001b[31m2.5 MB/s\u001b[0m eta \u001b[36m0:00:00\u001b[0m\n",
            "\u001b[?25hBuilding wheels for collected packages: yahoo-finance\n",
            "  Building wheel for yahoo-finance (setup.py) ... \u001b[?25l\u001b[?25hdone\n",
            "  Created wheel for yahoo-finance: filename=yahoo_finance-1.4.0-py3-none-any.whl size=7218 sha256=58945d70f6a285294dc997199f6c6968a76ff4f8cd935a7f912e0a55acab98d8\n",
            "  Stored in directory: /root/.cache/pip/wheels/f6/a9/34/f1aaa343d0861148f79a9df08f380e4dbbdbe27b7ba1e0e84c\n",
            "Successfully built yahoo-finance\n",
            "Installing collected packages: simplejson, yahoo-finance\n",
            "Successfully installed simplejson-3.19.2 yahoo-finance-1.4.0\n",
            "Requirement already satisfied: yahoo-finance in /usr/local/lib/python3.10/dist-packages (1.4.0)\n",
            "Collecting fix\n",
            "  Downloading fix-1.0.3-py2.py3-none-any.whl (5.6 kB)\n",
            "Requirement already satisfied: pytz in /usr/local/lib/python3.10/dist-packages (from yahoo-finance) (2023.3.post1)\n",
            "Requirement already satisfied: simplejson in /usr/local/lib/python3.10/dist-packages (from yahoo-finance) (3.19.2)\n",
            "Installing collected packages: fix\n",
            "Successfully installed fix-1.0.3\n",
            "Requirement already satisfied: yfinance in /usr/local/lib/python3.10/dist-packages (0.2.31)\n",
            "Requirement already satisfied: fix in /usr/local/lib/python3.10/dist-packages (1.0.3)\n",
            "Requirement already satisfied: pandas>=1.3.0 in /usr/local/lib/python3.10/dist-packages (from yfinance) (1.5.3)\n",
            "Requirement already satisfied: numpy>=1.16.5 in /usr/local/lib/python3.10/dist-packages (from yfinance) (1.23.5)\n",
            "Requirement already satisfied: requests>=2.31 in /usr/local/lib/python3.10/dist-packages (from yfinance) (2.31.0)\n",
            "Requirement already satisfied: multitasking>=0.0.7 in /usr/local/lib/python3.10/dist-packages (from yfinance) (0.0.11)\n",
            "Requirement already satisfied: lxml>=4.9.1 in /usr/local/lib/python3.10/dist-packages (from yfinance) (4.9.3)\n",
            "Requirement already satisfied: appdirs>=1.4.4 in /usr/local/lib/python3.10/dist-packages (from yfinance) (1.4.4)\n",
            "Requirement already satisfied: pytz>=2022.5 in /usr/local/lib/python3.10/dist-packages (from yfinance) (2023.3.post1)\n",
            "Requirement already satisfied: frozendict>=2.3.4 in /usr/local/lib/python3.10/dist-packages (from yfinance) (2.3.8)\n",
            "Requirement already satisfied: peewee>=3.16.2 in /usr/local/lib/python3.10/dist-packages (from yfinance) (3.17.0)\n",
            "Requirement already satisfied: beautifulsoup4>=4.11.1 in /usr/local/lib/python3.10/dist-packages (from yfinance) (4.11.2)\n",
            "Requirement already satisfied: html5lib>=1.1 in /usr/local/lib/python3.10/dist-packages (from yfinance) (1.1)\n",
            "Requirement already satisfied: soupsieve>1.2 in /usr/local/lib/python3.10/dist-packages (from beautifulsoup4>=4.11.1->yfinance) (2.5)\n",
            "Requirement already satisfied: six>=1.9 in /usr/local/lib/python3.10/dist-packages (from html5lib>=1.1->yfinance) (1.16.0)\n",
            "Requirement already satisfied: webencodings in /usr/local/lib/python3.10/dist-packages (from html5lib>=1.1->yfinance) (0.5.1)\n",
            "Requirement already satisfied: python-dateutil>=2.8.1 in /usr/local/lib/python3.10/dist-packages (from pandas>=1.3.0->yfinance) (2.8.2)\n",
            "Requirement already satisfied: charset-normalizer<4,>=2 in /usr/local/lib/python3.10/dist-packages (from requests>=2.31->yfinance) (3.3.0)\n",
            "Requirement already satisfied: idna<4,>=2.5 in /usr/local/lib/python3.10/dist-packages (from requests>=2.31->yfinance) (3.4)\n",
            "Requirement already satisfied: urllib3<3,>=1.21.1 in /usr/local/lib/python3.10/dist-packages (from requests>=2.31->yfinance) (2.0.7)\n",
            "Requirement already satisfied: certifi>=2017.4.17 in /usr/local/lib/python3.10/dist-packages (from requests>=2.31->yfinance) (2023.7.22)\n"
          ]
        }
      ]
    },
    {
      "cell_type": "code",
      "source": [
        "\n",
        "#CBOE Interest Rate 10 Year T No (^TNX)\n",
        "#Revised names symbol\n",
        "usdx =\n",
        "\n",
        "us10y = ^TNX\n",
        "gold = GC=F\n",
        "\n"
      ],
      "metadata": {
        "id": "Yw6cm0elAkQh",
        "colab": {
          "base_uri": "https://localhost:8080/",
          "height": 141
        },
        "outputId": "8e957ccd-ea4a-4a4f-fb3e-8fe710ca862f"
      },
      "id": "Yw6cm0elAkQh",
      "execution_count": null,
      "outputs": [
        {
          "output_type": "error",
          "ename": "SyntaxError",
          "evalue": "ignored",
          "traceback": [
            "\u001b[0;36m  File \u001b[0;32m\"<ipython-input-3-f34fe0968ab1>\"\u001b[0;36m, line \u001b[0;32m3\u001b[0m\n\u001b[0;31m    usdx =\u001b[0m\n\u001b[0m          ^\u001b[0m\n\u001b[0;31mSyntaxError\u001b[0m\u001b[0;31m:\u001b[0m invalid syntax\n"
          ]
        }
      ]
    },
    {
      "cell_type": "code",
      "source": [
        "import gspread\n",
        "from oauth2client.service_account import ServiceAccountCredentials\n",
        "\n",
        "# Set up the credentials\n",
        "scope = [\"https://spreadsheets.google.com/feeds\", \"https://www.googleapis.com/auth/drive\"]\n",
        "creds = ServiceAccountCredentials.from_json_keyfile_name(\"your-credentials-file.json\", scope)\n",
        "client = gspread.authorize(creds)\n",
        "\n",
        "# Open the Google Sheet by title\n",
        "sheet = client.open(\"Your Google Sheet Title\").sheet1\n",
        "\n",
        "# Read data from the Google Sheet\n",
        "data = sheet.get_all_records()\n"
      ],
      "metadata": {
        "id": "y59dQ55jXC4j"
      },
      "id": "y59dQ55jXC4j",
      "execution_count": null,
      "outputs": []
    },
    {
      "cell_type": "code",
      "source": [
        "\n",
        "import yfinance\n",
        "import pandas_datareader\n",
        "yfinance.ticker\n",
        "symbol =\n",
        "list_symbol =\n",
        "high_yield_searching = ['^TNX', , , , , , ]\n",
        "list_sector_symbol = all_sector_symbol\n",
        "df = yfinance.download."
      ],
      "metadata": {
        "id": "7VnLJ8kGK44T"
      },
      "id": "7VnLJ8kGK44T",
      "execution_count": null,
      "outputs": []
    },
    {
      "cell_type": "code",
      "execution_count": null,
      "id": "964219a4",
      "metadata": {
        "id": "964219a4"
      },
      "outputs": [],
      "source": [
        "import pandas as pd\n",
        "df = pd.read_csv(\"EURUSD_Candlestick_1_Hour_BID_01.07.2020-15.07.2023.csv\")\n",
        "df.columns=['time', 'open', 'high', 'low', 'close', 'volume']\n",
        "#Check if NA values are in data\n",
        "df=df[df['volume']!=0]\n",
        "df.reset_index(drop=True, inplace=True)\n",
        "df.isna().sum()\n",
        "df.head(10)"
      ]
    },
    {
      "cell_type": "code",
      "execution_count": null,
      "id": "31aeb78e",
      "metadata": {
        "id": "31aeb78e"
      },
      "outputs": [],
      "source": [
        "def pivotid(df1, l, n1, n2): #n1 n2 before and after candle l\n",
        "    if l-n1 < 0 or l+n2 >= len(df1):\n",
        "        return 0\n",
        "\n",
        "    pividlow=1\n",
        "    pividhigh=1\n",
        "    for i in range(l-n1, l+n2+1):\n",
        "        if(df1.low[l]>df1.low[i]):\n",
        "            pividlow=0\n",
        "        if(df1.high[l]<df1.high[i]):\n",
        "            pividhigh=0\n",
        "    if pividlow and pividhigh:\n",
        "        return 3\n",
        "    elif pividlow:\n",
        "        return 1\n",
        "    elif pividhigh:\n",
        "        return 2\n",
        "    else:\n",
        "        return 0\n",
        "\n",
        "df['pivot'] = df.apply(lambda x: pivotid(df, x.name,3,3), axis=1)"
      ]
    },
    {
      "cell_type": "markdown",
      "id": "aca2010e",
      "metadata": {
        "id": "aca2010e"
      },
      "source": [
        "## Pivot Candles Vizualisation"
      ]
    },
    {
      "cell_type": "code",
      "execution_count": null,
      "id": "e0c88a20",
      "metadata": {
        "id": "e0c88a20"
      },
      "outputs": [],
      "source": [
        "import numpy as np\n",
        "def pointpos(x):\n",
        "    if x['pivot']==1:\n",
        "        return x['low']-1e-3\n",
        "    elif x['pivot']==2:\n",
        "        return x['high']+1e-3\n",
        "    else:\n",
        "        return np.nan\n",
        "\n",
        "df['pointpos'] = df.apply(lambda row: pointpos(row), axis=1)"
      ]
    },
    {
      "cell_type": "code",
      "execution_count": null,
      "id": "f8e8c116",
      "metadata": {
        "id": "f8e8c116"
      },
      "outputs": [],
      "source": [
        "import plotly.graph_objects as go\n",
        "from plotly.subplots import make_subplots\n",
        "from datetime import datetime\n",
        "dfpl = df[500:800]\n",
        "fig = go.Figure(data=[go.Candlestick(x=dfpl.index,\n",
        "                open=dfpl['open'],\n",
        "                high=dfpl['high'],\n",
        "                low=dfpl['low'],\n",
        "                close=dfpl['close'])])\n",
        "\n",
        "fig.add_scatter(x=dfpl.index, y=dfpl['pointpos'], mode=\"markers\",\n",
        "                marker=dict(size=5, color=\"MediumPurple\"),\n",
        "                name=\"pivot\")\n",
        "#fig.update_layout(xaxis_rangeslider_visible=False)\n",
        "fig.show()"
      ]
    },
    {
      "cell_type": "code",
      "execution_count": null,
      "id": "81f71e55",
      "metadata": {
        "id": "81f71e55"
      },
      "outputs": [],
      "source": [
        "from scipy.stats import linregress\n",
        "\n",
        "def detect_flag(candle, backcandles, window, plot_flag=False):\n",
        "    \"\"\"\n",
        "    Attention! window should always be greater than the pivot window! to avoid look ahead bias\n",
        "    \"\"\"\n",
        "    localdf = df[candle-backcandles-window:candle-window]\n",
        "    highs = localdf[localdf['pivot'] == 2].high.tail(3).values\n",
        "    idxhighs = localdf[localdf['pivot'] == 2].high.tail(3).index\n",
        "    lows = localdf[localdf['pivot'] == 1].low.tail(3).values\n",
        "    idxlows = localdf[localdf['pivot'] == 1].low.tail(3).index\n",
        "\n",
        "    if len(highs) == 3 and len(lows) == 3:\n",
        "        order_condition = (\n",
        "            (idxlows[0] < idxhighs[0]\n",
        "            < idxlows[1] < idxhighs[1]\n",
        "            < idxlows[2] < idxhighs[2])\n",
        "            or\n",
        "            (idxhighs[0] < idxlows[0]\n",
        "             < idxhighs[1] < idxlows[1]\n",
        "             < idxhighs[2] < idxlows[2]) )\n",
        "\n",
        "        slmin, intercmin, rmin, _, _ = linregress(idxlows, lows)\n",
        "        slmax, intercmax, rmax, _, _ = linregress(idxhighs, highs)\n",
        "\n",
        "        if (order_condition\n",
        "            and (rmax*rmax)>=0.9\n",
        "            and (rmin*rmin)>=0.9\n",
        "            and slmin>=0.0001\n",
        "            and slmax<=-0.0001):\n",
        "            #and ((abs(slmin)-abs(slmax))/abs(slmax)) < 0.05):\n",
        "\n",
        "            if plot_flag:\n",
        "                fig = go.Figure(data=[go.Candlestick(x=localdf.index,\n",
        "                open=localdf['open'],\n",
        "                high=localdf['high'],\n",
        "                low=localdf['low'],\n",
        "                close=localdf['close'])])\n",
        "\n",
        "                fig.add_scatter(x=localdf.index, y=localdf['pointpos'], mode=\"markers\",\n",
        "                marker=dict(size=10, color=\"MediumPurple\"),\n",
        "                name=\"pivot\")\n",
        "                fig.add_trace(go.Scatter(x=idxlows, y=slmin*idxlows + intercmin, mode='lines', name='min slope'))\n",
        "                fig.add_trace(go.Scatter(x=idxhighs, y=slmax*idxhighs + intercmax, mode='lines', name='max slope'))\n",
        "                fig.update_layout(\n",
        "                xaxis_rangeslider_visible=False,\n",
        "                plot_bgcolor='white', # change the background to white\n",
        "                xaxis=dict(showgrid=True, gridcolor='white'), # change the x-axis grid to white\n",
        "                yaxis=dict(showgrid=True, gridcolor='white') # change the y-axis grid to white\n",
        "                )\n",
        "                fig.show()\n",
        "\n",
        "            return 1\n",
        "\n",
        "    return 0"
      ]
    },
    {
      "cell_type": "code",
      "execution_count": null,
      "id": "b51ff396",
      "metadata": {
        "id": "b51ff396"
      },
      "outputs": [],
      "source": [
        "detect_flag(2189, 30, 3, plot_flag=True)"
      ]
    },
    {
      "cell_type": "code",
      "execution_count": null,
      "id": "a61546e0",
      "metadata": {
        "id": "a61546e0"
      },
      "outputs": [],
      "source": [
        "df['flag'] = df.index.map(lambda x: detect_flag(x, 35, 3))"
      ]
    },
    {
      "cell_type": "code",
      "execution_count": null,
      "id": "90f960a9",
      "metadata": {
        "id": "90f960a9"
      },
      "outputs": [],
      "source": [
        "df[df['flag']!=0]"
      ]
    },
    {
      "cell_type": "code",
      "execution_count": null,
      "id": "54170b7b",
      "metadata": {
        "id": "54170b7b"
      },
      "outputs": [],
      "source": []
    }
  ],
  "metadata": {
    "kernelspec": {
      "display_name": "Python 3 (ipykernel)",
      "language": "python",
      "name": "python3"
    },
    "language_info": {
      "codemirror_mode": {
        "name": "ipython",
        "version": 3
      },
      "file_extension": ".py",
      "mimetype": "text/x-python",
      "name": "python",
      "nbconvert_exporter": "python",
      "pygments_lexer": "ipython3",
      "version": "3.10.8"
    },
    "colab": {
      "provenance": [],
      "include_colab_link": true
    }
  },
  "nbformat": 4,
  "nbformat_minor": 5
}